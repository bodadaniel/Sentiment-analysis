{
  "nbformat": 4,
  "nbformat_minor": 0,
  "metadata": {
    "colab": {
      "name": "NLP_data_lstm_v4",
      "provenance": [],
      "collapsed_sections": [],
      "machine_shape": "hm",
      "authorship_tag": "ABX9TyOjWAlNYCsNi4iFLXhyTjxJ",
      "include_colab_link": true
    },
    "kernelspec": {
      "name": "python3",
      "display_name": "Python 3"
    },
    "language_info": {
      "name": "python"
    },
    "accelerator": "GPU",
    "widgets": {
      "application/vnd.jupyter.widget-state+json": {
        "7a6e9813783f44448f04c50e258f9286": {
          "model_module": "@jupyter-widgets/controls",
          "model_name": "HBoxModel",
          "model_module_version": "1.5.0",
          "state": {
            "_dom_classes": [],
            "_model_module": "@jupyter-widgets/controls",
            "_model_module_version": "1.5.0",
            "_model_name": "HBoxModel",
            "_view_count": null,
            "_view_module": "@jupyter-widgets/controls",
            "_view_module_version": "1.5.0",
            "_view_name": "HBoxView",
            "box_style": "",
            "children": [
              "IPY_MODEL_a391f79b697d4d1681ea9514204e1292",
              "IPY_MODEL_469ec869d8c2403a9f5a3fd691b1d206",
              "IPY_MODEL_6b7896f318be4ff49a2ee49187b45066"
            ],
            "layout": "IPY_MODEL_31f0421db774459c93e6549b94791ce6"
          }
        },
        "a391f79b697d4d1681ea9514204e1292": {
          "model_module": "@jupyter-widgets/controls",
          "model_name": "HTMLModel",
          "model_module_version": "1.5.0",
          "state": {
            "_dom_classes": [],
            "_model_module": "@jupyter-widgets/controls",
            "_model_module_version": "1.5.0",
            "_model_name": "HTMLModel",
            "_view_count": null,
            "_view_module": "@jupyter-widgets/controls",
            "_view_module_version": "1.5.0",
            "_view_name": "HTMLView",
            "description": "",
            "description_tooltip": null,
            "layout": "IPY_MODEL_7ed060534cd14848b0f81c7731c10993",
            "placeholder": "​",
            "style": "IPY_MODEL_604494f8763347329f15164980abc851",
            "value": "100%"
          }
        },
        "469ec869d8c2403a9f5a3fd691b1d206": {
          "model_module": "@jupyter-widgets/controls",
          "model_name": "FloatProgressModel",
          "model_module_version": "1.5.0",
          "state": {
            "_dom_classes": [],
            "_model_module": "@jupyter-widgets/controls",
            "_model_module_version": "1.5.0",
            "_model_name": "FloatProgressModel",
            "_view_count": null,
            "_view_module": "@jupyter-widgets/controls",
            "_view_module_version": "1.5.0",
            "_view_name": "ProgressView",
            "bar_style": "success",
            "description": "",
            "description_tooltip": null,
            "layout": "IPY_MODEL_48d7bd3ef68b4734a621a84ad501d527",
            "max": 1018167,
            "min": 0,
            "orientation": "horizontal",
            "style": "IPY_MODEL_074fbed411354ea699af2153da11d843",
            "value": 1018167
          }
        },
        "6b7896f318be4ff49a2ee49187b45066": {
          "model_module": "@jupyter-widgets/controls",
          "model_name": "HTMLModel",
          "model_module_version": "1.5.0",
          "state": {
            "_dom_classes": [],
            "_model_module": "@jupyter-widgets/controls",
            "_model_module_version": "1.5.0",
            "_model_name": "HTMLModel",
            "_view_count": null,
            "_view_module": "@jupyter-widgets/controls",
            "_view_module_version": "1.5.0",
            "_view_name": "HTMLView",
            "description": "",
            "description_tooltip": null,
            "layout": "IPY_MODEL_27f8d404376a4284b6e8d788d1bdead7",
            "placeholder": "​",
            "style": "IPY_MODEL_9fa8936043b04fdf8a514188c793445e",
            "value": " 1018167/1018167 [03:00&lt;00:00, 3900.74it/s]"
          }
        },
        "31f0421db774459c93e6549b94791ce6": {
          "model_module": "@jupyter-widgets/base",
          "model_name": "LayoutModel",
          "model_module_version": "1.2.0",
          "state": {
            "_model_module": "@jupyter-widgets/base",
            "_model_module_version": "1.2.0",
            "_model_name": "LayoutModel",
            "_view_count": null,
            "_view_module": "@jupyter-widgets/base",
            "_view_module_version": "1.2.0",
            "_view_name": "LayoutView",
            "align_content": null,
            "align_items": null,
            "align_self": null,
            "border": null,
            "bottom": null,
            "display": null,
            "flex": null,
            "flex_flow": null,
            "grid_area": null,
            "grid_auto_columns": null,
            "grid_auto_flow": null,
            "grid_auto_rows": null,
            "grid_column": null,
            "grid_gap": null,
            "grid_row": null,
            "grid_template_areas": null,
            "grid_template_columns": null,
            "grid_template_rows": null,
            "height": null,
            "justify_content": null,
            "justify_items": null,
            "left": null,
            "margin": null,
            "max_height": null,
            "max_width": null,
            "min_height": null,
            "min_width": null,
            "object_fit": null,
            "object_position": null,
            "order": null,
            "overflow": null,
            "overflow_x": null,
            "overflow_y": null,
            "padding": null,
            "right": null,
            "top": null,
            "visibility": null,
            "width": null
          }
        },
        "7ed060534cd14848b0f81c7731c10993": {
          "model_module": "@jupyter-widgets/base",
          "model_name": "LayoutModel",
          "model_module_version": "1.2.0",
          "state": {
            "_model_module": "@jupyter-widgets/base",
            "_model_module_version": "1.2.0",
            "_model_name": "LayoutModel",
            "_view_count": null,
            "_view_module": "@jupyter-widgets/base",
            "_view_module_version": "1.2.0",
            "_view_name": "LayoutView",
            "align_content": null,
            "align_items": null,
            "align_self": null,
            "border": null,
            "bottom": null,
            "display": null,
            "flex": null,
            "flex_flow": null,
            "grid_area": null,
            "grid_auto_columns": null,
            "grid_auto_flow": null,
            "grid_auto_rows": null,
            "grid_column": null,
            "grid_gap": null,
            "grid_row": null,
            "grid_template_areas": null,
            "grid_template_columns": null,
            "grid_template_rows": null,
            "height": null,
            "justify_content": null,
            "justify_items": null,
            "left": null,
            "margin": null,
            "max_height": null,
            "max_width": null,
            "min_height": null,
            "min_width": null,
            "object_fit": null,
            "object_position": null,
            "order": null,
            "overflow": null,
            "overflow_x": null,
            "overflow_y": null,
            "padding": null,
            "right": null,
            "top": null,
            "visibility": null,
            "width": null
          }
        },
        "604494f8763347329f15164980abc851": {
          "model_module": "@jupyter-widgets/controls",
          "model_name": "DescriptionStyleModel",
          "model_module_version": "1.5.0",
          "state": {
            "_model_module": "@jupyter-widgets/controls",
            "_model_module_version": "1.5.0",
            "_model_name": "DescriptionStyleModel",
            "_view_count": null,
            "_view_module": "@jupyter-widgets/base",
            "_view_module_version": "1.2.0",
            "_view_name": "StyleView",
            "description_width": ""
          }
        },
        "48d7bd3ef68b4734a621a84ad501d527": {
          "model_module": "@jupyter-widgets/base",
          "model_name": "LayoutModel",
          "model_module_version": "1.2.0",
          "state": {
            "_model_module": "@jupyter-widgets/base",
            "_model_module_version": "1.2.0",
            "_model_name": "LayoutModel",
            "_view_count": null,
            "_view_module": "@jupyter-widgets/base",
            "_view_module_version": "1.2.0",
            "_view_name": "LayoutView",
            "align_content": null,
            "align_items": null,
            "align_self": null,
            "border": null,
            "bottom": null,
            "display": null,
            "flex": null,
            "flex_flow": null,
            "grid_area": null,
            "grid_auto_columns": null,
            "grid_auto_flow": null,
            "grid_auto_rows": null,
            "grid_column": null,
            "grid_gap": null,
            "grid_row": null,
            "grid_template_areas": null,
            "grid_template_columns": null,
            "grid_template_rows": null,
            "height": null,
            "justify_content": null,
            "justify_items": null,
            "left": null,
            "margin": null,
            "max_height": null,
            "max_width": null,
            "min_height": null,
            "min_width": null,
            "object_fit": null,
            "object_position": null,
            "order": null,
            "overflow": null,
            "overflow_x": null,
            "overflow_y": null,
            "padding": null,
            "right": null,
            "top": null,
            "visibility": null,
            "width": null
          }
        },
        "074fbed411354ea699af2153da11d843": {
          "model_module": "@jupyter-widgets/controls",
          "model_name": "ProgressStyleModel",
          "model_module_version": "1.5.0",
          "state": {
            "_model_module": "@jupyter-widgets/controls",
            "_model_module_version": "1.5.0",
            "_model_name": "ProgressStyleModel",
            "_view_count": null,
            "_view_module": "@jupyter-widgets/base",
            "_view_module_version": "1.2.0",
            "_view_name": "StyleView",
            "bar_color": null,
            "description_width": ""
          }
        },
        "27f8d404376a4284b6e8d788d1bdead7": {
          "model_module": "@jupyter-widgets/base",
          "model_name": "LayoutModel",
          "model_module_version": "1.2.0",
          "state": {
            "_model_module": "@jupyter-widgets/base",
            "_model_module_version": "1.2.0",
            "_model_name": "LayoutModel",
            "_view_count": null,
            "_view_module": "@jupyter-widgets/base",
            "_view_module_version": "1.2.0",
            "_view_name": "LayoutView",
            "align_content": null,
            "align_items": null,
            "align_self": null,
            "border": null,
            "bottom": null,
            "display": null,
            "flex": null,
            "flex_flow": null,
            "grid_area": null,
            "grid_auto_columns": null,
            "grid_auto_flow": null,
            "grid_auto_rows": null,
            "grid_column": null,
            "grid_gap": null,
            "grid_row": null,
            "grid_template_areas": null,
            "grid_template_columns": null,
            "grid_template_rows": null,
            "height": null,
            "justify_content": null,
            "justify_items": null,
            "left": null,
            "margin": null,
            "max_height": null,
            "max_width": null,
            "min_height": null,
            "min_width": null,
            "object_fit": null,
            "object_position": null,
            "order": null,
            "overflow": null,
            "overflow_x": null,
            "overflow_y": null,
            "padding": null,
            "right": null,
            "top": null,
            "visibility": null,
            "width": null
          }
        },
        "9fa8936043b04fdf8a514188c793445e": {
          "model_module": "@jupyter-widgets/controls",
          "model_name": "DescriptionStyleModel",
          "model_module_version": "1.5.0",
          "state": {
            "_model_module": "@jupyter-widgets/controls",
            "_model_module_version": "1.5.0",
            "_model_name": "DescriptionStyleModel",
            "_view_count": null,
            "_view_module": "@jupyter-widgets/base",
            "_view_module_version": "1.2.0",
            "_view_name": "StyleView",
            "description_width": ""
          }
        }
      }
    }
  },
  "cells": [
    {
      "cell_type": "markdown",
      "metadata": {
        "id": "view-in-github",
        "colab_type": "text"
      },
      "source": [
        "<a href=\"https://colab.research.google.com/github/bodadaniel/Sentiment-analysis/blob/main/NLP_data_lstm_v4.ipynb\" target=\"_parent\"><img src=\"https://colab.research.google.com/assets/colab-badge.svg\" alt=\"Open In Colab\"/></a>"
      ]
    },
    {
      "cell_type": "code",
      "source": [
        "#Amazon 2018 automotive\n",
        "import pandas as pd\n",
        "import gzip\n",
        "import json\n",
        "\n",
        "from google.colab import drive \n",
        "drive.mount('/content/gdrive')\n",
        "\n",
        "def parse(path):\n",
        "  g = gzip.open(path, 'rb')\n",
        "  for l in g:\n",
        "    yield json.loads(l)\n",
        "\n",
        "def getDF(path):\n",
        "  i = 0\n",
        "  df = {}\n",
        "  for d in parse(path):\n",
        "    df[i] = d\n",
        "    i += 1\n",
        "  return pd.DataFrame.from_dict(df, orient='index')\n",
        "\n",
        "df_train = getDF('/content/gdrive/MyDrive/Colab Notebooks/NLP/Automotive_5.json.gz')\n",
        "df_train = df_train[['reviewerName', 'reviewText', 'overall', 'summary', 'reviewTime']]\n",
        "df_train['sample_type'] = \"automotive\"\n",
        "df_train = df_train.sample(n=int(1e6), random_state=1, ignore_index = True)\n",
        "#df_train"
      ],
      "metadata": {
        "colab": {
          "base_uri": "https://localhost:8080/"
        },
        "id": "MoFa6ePzOxfq",
        "outputId": "58558345-c32a-4dbf-991a-048a51e78931"
      },
      "execution_count": null,
      "outputs": [
        {
          "output_type": "stream",
          "name": "stdout",
          "text": [
            "Mounted at /content/gdrive\n"
          ]
        }
      ]
    },
    {
      "cell_type": "code",
      "source": [
        "#Amazon 2018 Video Games\n",
        "df_test = getDF('/content/gdrive/MyDrive/Colab Notebooks/NLP/Video_Games_5.json.gz')\n",
        "df_test = df_test[['reviewerName', 'reviewText', 'overall', 'summary', 'reviewTime']]\n",
        "df_test['sample_type'] = \"video_games\"\n",
        "df_test = df_test.sample(n=int(1e5), random_state=1, ignore_index = True)\n",
        "#df_test"
      ],
      "metadata": {
        "id": "0KBN0QrjXXQ4"
      },
      "execution_count": null,
      "outputs": []
    },
    {
      "cell_type": "code",
      "source": [
        "df = pd.concat((df_train, df_test), axis = 0)\n",
        "df.reset_index(inplace = True, drop= True )\n",
        "df"
      ],
      "metadata": {
        "id": "vdy0pg5fT8JP"
      },
      "execution_count": null,
      "outputs": []
    },
    {
      "cell_type": "code",
      "source": [
        "df['reviewTextLength'] = df.reviewText.str.len()\n",
        "print('automotive')\n",
        "print(pd.DataFrame(df[df.sample_type == 'automotive'].reviewTextLength.describe()).apply(lambda x: '%.5f' % x, axis=1))\n",
        "print('')\n",
        "print('video_games')\n",
        "print(pd.DataFrame(df[df.sample_type == 'video_games'].reviewTextLength.describe()).apply(lambda x: '%.5f' % x, axis=1))"
      ],
      "metadata": {
        "colab": {
          "base_uri": "https://localhost:8080/"
        },
        "id": "obaeLn-BlUME",
        "outputId": "a936f68c-b71b-410c-adf8-217c22d2b88f"
      },
      "execution_count": null,
      "outputs": [
        {
          "output_type": "stream",
          "name": "stdout",
          "text": [
            "automotive\n",
            "count    999509.00000\n",
            "mean        183.79732\n",
            "std         306.53312\n",
            "min           1.00000\n",
            "25%          32.00000\n",
            "50%          90.00000\n",
            "75%         211.00000\n",
            "max       14323.00000\n",
            "dtype: object\n",
            "\n",
            "video_games\n",
            "count    99971.00000\n",
            "mean       675.65296\n",
            "std       1271.15982\n",
            "min          1.00000\n",
            "25%         59.00000\n",
            "50%        212.00000\n",
            "75%        717.00000\n",
            "max      32627.00000\n",
            "dtype: object\n"
          ]
        }
      ]
    },
    {
      "cell_type": "code",
      "source": [
        "import matplotlib.pyplot as plt\n",
        "\n",
        "def plot_tl_hist(upper_bound):\n",
        "  fig, ax = plt.subplots(1, 2, sharex='col', sharey='row', figsize=(10, 5))\n",
        "  df[(df.sample_type == 'automotive') & (df.reviewTextLength < upper_bound)].reviewTextLength.hist(bins = 100, ax=ax[0])\n",
        "  ax[0].set_title(f'Atomotive hist: TL<{upper_bound}')\n",
        "  df[(df.sample_type == 'video_games') & (df.reviewTextLength < upper_bound)].reviewTextLength.hist(bins = 100, ax=ax[1])\n",
        "  ax[1].set_title(f'Video games hist: TL<{upper_bound}')\n",
        "\n",
        "plot_tl_hist(2e4)"
      ],
      "metadata": {
        "colab": {
          "base_uri": "https://localhost:8080/",
          "height": 336
        },
        "id": "-pNgGaiBt6pC",
        "outputId": "f312c55f-7def-42b2-995f-bbee723f5737"
      },
      "execution_count": null,
      "outputs": [
        {
          "output_type": "display_data",
          "data": {
            "text/plain": [
              "<Figure size 720x360 with 2 Axes>"
            ],
            "image/png": "[encoded data removed]"
          },
          "metadata": {
            "needs_background": "light"
          }
        }
      ]
    },
    {
      "cell_type": "code",
      "source": [
        "plot_tl_hist(4e3)"
      ],
      "metadata": {
        "colab": {
          "base_uri": "https://localhost:8080/",
          "height": 336
        },
        "id": "739sTg_-um_y",
        "outputId": "f786c710-5a93-4b62-ded3-5c82258e0944"
      },
      "execution_count": null,
      "outputs": [
        {
          "output_type": "display_data",
          "data": {
            "text/plain": [
              "<Figure size 720x360 with 2 Axes>"
            ],
            "image/png": "[encoded data removed]"
          },
          "metadata": {
            "needs_background": "light"
          }
        }
      ]
    },
    {
      "cell_type": "code",
      "source": [
        "plot_tl_hist(3e2)"
      ],
      "metadata": {
        "colab": {
          "base_uri": "https://localhost:8080/",
          "height": 336
        },
        "id": "xBOF-MrUvMqB",
        "outputId": "65e819b2-2381-426a-a4f6-70097ee5832a"
      },
      "execution_count": null,
      "outputs": [
        {
          "output_type": "display_data",
          "data": {
            "text/plain": [
              "<Figure size 720x360 with 2 Axes>"
            ],
            "image/png": "[encoded data removed]"
          },
          "metadata": {
            "needs_background": "light"
          }
        }
      ]
    },
    {
      "cell_type": "code",
      "source": [
        "plot_tl_hist(1e2)"
      ],
      "metadata": {
        "colab": {
          "base_uri": "https://localhost:8080/",
          "height": 336
        },
        "id": "iyiTr-aEfvCn",
        "outputId": "f0e16e38-b6c3-4bef-f705-c16d781ccead"
      },
      "execution_count": null,
      "outputs": [
        {
          "output_type": "display_data",
          "data": {
            "text/plain": [
              "<Figure size 720x360 with 2 Axes>"
            ],
            "image/png": "[encoded data removed]"
          },
          "metadata": {
            "needs_background": "light"
          }
        }
      ]
    },
    {
      "cell_type": "code",
      "source": [
        "df[df.reviewTextLength < 5]"
      ],
      "metadata": {
        "colab": {
          "base_uri": "https://localhost:8080/",
          "height": 423
        },
        "id": "6bSpioOrvA5m",
        "outputId": "b7d26742-e785-4e3c-8b8f-3fcb5a26815a"
      },
      "execution_count": null,
      "outputs": [
        {
          "output_type": "execute_result",
          "data": {
            "text/plain": [
              "                            reviewerName reviewText  overall  \\\n",
              "73                           JOSUE VELEZ         OK      3.0   \n",
              "97                             Justin G.       Good      5.0   \n",
              "112                                TERRY       Nice      5.0   \n",
              "247                              eduardo       good      4.0   \n",
              "299                         Mark Steppan       nice      5.0   \n",
              "...                                  ...        ...      ...   \n",
              "1099756  Norverth Jose Marquez Hernandez       cool      5.0   \n",
              "1099803                          Jose  P       Good      3.0   \n",
              "1099860                           flavio         ok      5.0   \n",
              "1099870                        Jhonny B.       nice      5.0   \n",
              "1099940                        D. Brooks         OK      5.0   \n",
              "\n",
              "                                                   summary   reviewTime  \\\n",
              "73                                             Three Stars  04 30, 2016   \n",
              "97                                              Five Stars  01 16, 2015   \n",
              "112                                             Five Stars  03 16, 2018   \n",
              "247                                             Four Stars  12 16, 2015   \n",
              "299                                             Five Stars  07 27, 2015   \n",
              "...                                                    ...          ...   \n",
              "1099756                                         Five Stars   10 5, 2015   \n",
              "1099803  Needs more diferents things to do,is always th...   12 5, 2016   \n",
              "1099860                                         Five Stars  11 23, 2014   \n",
              "1099870                                         Five Stars  09 29, 2014   \n",
              "1099940                                         Five Stars  12 18, 2014   \n",
              "\n",
              "         sample_type  reviewTextLength  \n",
              "73        automotive                 2  \n",
              "97        automotive                 4  \n",
              "112       automotive                 4  \n",
              "247       automotive                 4  \n",
              "299       automotive                 4  \n",
              "...              ...               ...  \n",
              "1099756  video_games                 4  \n",
              "1099803  video_games                 4  \n",
              "1099860  video_games                 2  \n",
              "1099870  video_games                 4  \n",
              "1099940  video_games                 2  \n",
              "\n",
              "[20488 rows x 7 columns]"
            ],
            "text/html": [
              "\n",
              "  <div id=\"df-fe31b4ca-0ec9-401c-8227-0ca89da47ae8\">\n",
              "    <div class=\"colab-df-container\">\n",
              "      <div>\n",
              "<style scoped>\n",
              "    .dataframe tbody tr th:only-of-type {\n",
              "        vertical-align: middle;\n",
              "    }\n",
              "\n",
              "    .dataframe tbody tr th {\n",
              "        vertical-align: top;\n",
              "    }\n",
              "\n",
              "    .dataframe thead th {\n",
              "        text-align: right;\n",
              "    }\n",
              "</style>\n",
              "<table border=\"1\" class=\"dataframe\">\n",
              "  <thead>\n",
              "    <tr style=\"text-align: right;\">\n",
              "      <th></th>\n",
              "      <th>reviewerName</th>\n",
              "      <th>reviewText</th>\n",
              "      <th>overall</th>\n",
              "      <th>summary</th>\n",
              "      <th>reviewTime</th>\n",
              "      <th>sample_type</th>\n",
              "      <th>reviewTextLength</th>\n",
              "    </tr>\n",
              "  </thead>\n",
              "  <tbody>\n",
              "    <tr>\n",
              "      <th>73</th>\n",
              "      <td>JOSUE VELEZ</td>\n",
              "      <td>OK</td>\n",
              "      <td>3.0</td>\n",
              "      <td>Three Stars</td>\n",
              "      <td>04 30, 2016</td>\n",
              "      <td>automotive</td>\n",
              "      <td>2</td>\n",
              "    </tr>\n",
              "    <tr>\n",
              "      <th>97</th>\n",
              "      <td>Justin G.</td>\n",
              "      <td>Good</td>\n",
              "      <td>5.0</td>\n",
              "      <td>Five Stars</td>\n",
              "      <td>01 16, 2015</td>\n",
              "      <td>automotive</td>\n",
              "      <td>4</td>\n",
              "    </tr>\n",
              "    <tr>\n",
              "      <th>112</th>\n",
              "      <td>TERRY</td>\n",
              "      <td>Nice</td>\n",
              "      <td>5.0</td>\n",
              "      <td>Five Stars</td>\n",
              "      <td>03 16, 2018</td>\n",
              "      <td>automotive</td>\n",
              "      <td>4</td>\n",
              "    </tr>\n",
              "    <tr>\n",
              "      <th>247</th>\n",
              "      <td>eduardo</td>\n",
              "      <td>good</td>\n",
              "      <td>4.0</td>\n",
              "      <td>Four Stars</td>\n",
              "      <td>12 16, 2015</td>\n",
              "      <td>automotive</td>\n",
              "      <td>4</td>\n",
              "    </tr>\n",
              "    <tr>\n",
              "      <th>299</th>\n",
              "      <td>Mark Steppan</td>\n",
              "      <td>nice</td>\n",
              "      <td>5.0</td>\n",
              "      <td>Five Stars</td>\n",
              "      <td>07 27, 2015</td>\n",
              "      <td>automotive</td>\n",
              "      <td>4</td>\n",
              "    </tr>\n",
              "    <tr>\n",
              "      <th>...</th>\n",
              "      <td>...</td>\n",
              "      <td>...</td>\n",
              "      <td>...</td>\n",
              "      <td>...</td>\n",
              "      <td>...</td>\n",
              "      <td>...</td>\n",
              "      <td>...</td>\n",
              "    </tr>\n",
              "    <tr>\n",
              "      <th>1099756</th>\n",
              "      <td>Norverth Jose Marquez Hernandez</td>\n",
              "      <td>cool</td>\n",
              "      <td>5.0</td>\n",
              "      <td>Five Stars</td>\n",
              "      <td>10 5, 2015</td>\n",
              "      <td>video_games</td>\n",
              "      <td>4</td>\n",
              "    </tr>\n",
              "    <tr>\n",
              "      <th>1099803</th>\n",
              "      <td>Jose  P</td>\n",
              "      <td>Good</td>\n",
              "      <td>3.0</td>\n",
              "      <td>Needs more diferents things to do,is always th...</td>\n",
              "      <td>12 5, 2016</td>\n",
              "      <td>video_games</td>\n",
              "      <td>4</td>\n",
              "    </tr>\n",
              "    <tr>\n",
              "      <th>1099860</th>\n",
              "      <td>flavio</td>\n",
              "      <td>ok</td>\n",
              "      <td>5.0</td>\n",
              "      <td>Five Stars</td>\n",
              "      <td>11 23, 2014</td>\n",
              "      <td>video_games</td>\n",
              "      <td>2</td>\n",
              "    </tr>\n",
              "    <tr>\n",
              "      <th>1099870</th>\n",
              "      <td>Jhonny B.</td>\n",
              "      <td>nice</td>\n",
              "      <td>5.0</td>\n",
              "      <td>Five Stars</td>\n",
              "      <td>09 29, 2014</td>\n",
              "      <td>video_games</td>\n",
              "      <td>4</td>\n",
              "    </tr>\n",
              "    <tr>\n",
              "      <th>1099940</th>\n",
              "      <td>D. Brooks</td>\n",
              "      <td>OK</td>\n",
              "      <td>5.0</td>\n",
              "      <td>Five Stars</td>\n",
              "      <td>12 18, 2014</td>\n",
              "      <td>video_games</td>\n",
              "      <td>2</td>\n",
              "    </tr>\n",
              "  </tbody>\n",
              "</table>\n",
              "<p>20488 rows × 7 columns</p>\n",
              "</div>\n",
              "      <button class=\"colab-df-convert\" onclick=\"convertToInteractive('df-fe31b4ca-0ec9-401c-8227-0ca89da47ae8')\"\n",
              "              title=\"Convert this dataframe to an interactive table.\"\n",
              "              style=\"display:none;\">\n",
              "        \n",
              "  <svg xmlns=\"http://www.w3.org/2000/svg\" height=\"24px\"viewBox=\"0 0 24 24\"\n",
              "       width=\"24px\">\n",
              "    <path d=\"M0 0h24v24H0V0z\" fill=\"none\"/>\n",
              "    <path d=\"M18.56 5.44l.94 2.06.94-2.06 2.06-.94-2.06-.94-.94-2.06-.94 2.06-2.06.94zm-11 1L8.5 8.5l.94-2.06 2.06-.94-2.06-.94L8.5 2.5l-.94 2.06-2.06.94zm10 10l.94 2.06.94-2.06 2.06-.94-2.06-.94-.94-2.06-.94 2.06-2.06.94z\"/><path d=\"M17.41 7.96l-1.37-1.37c-.4-.4-.92-.59-1.43-.59-.52 0-1.04.2-1.43.59L10.3 9.45l-7.72 7.72c-.78.78-.78 2.05 0 2.83L4 21.41c.39.39.9.59 1.41.59.51 0 1.02-.2 1.41-.59l7.78-7.78 2.81-2.81c.8-.78.8-2.07 0-2.86zM5.41 20L4 18.59l7.72-7.72 1.47 1.35L5.41 20z\"/>\n",
              "  </svg>\n",
              "      </button>\n",
              "      \n",
              "  <style>\n",
              "    .colab-df-container {\n",
              "      display:flex;\n",
              "      flex-wrap:wrap;\n",
              "      gap: 12px;\n",
              "    }\n",
              "\n",
              "    .colab-df-convert {\n",
              "      background-color: #E8F0FE;\n",
              "      border: none;\n",
              "      border-radius: 50%;\n",
              "      cursor: pointer;\n",
              "      display: none;\n",
              "      fill: #1967D2;\n",
              "      height: 32px;\n",
              "      padding: 0 0 0 0;\n",
              "      width: 32px;\n",
              "    }\n",
              "\n",
              "    .colab-df-convert:hover {\n",
              "      background-color: #E2EBFA;\n",
              "      box-shadow: 0px 1px 2px rgba(60, 64, 67, 0.3), 0px 1px 3px 1px rgba(60, 64, 67, 0.15);\n",
              "      fill: #174EA6;\n",
              "    }\n",
              "\n",
              "    [theme=dark] .colab-df-convert {\n",
              "      background-color: #3B4455;\n",
              "      fill: #D2E3FC;\n",
              "    }\n",
              "\n",
              "    [theme=dark] .colab-df-convert:hover {\n",
              "      background-color: #434B5C;\n",
              "      box-shadow: 0px 1px 3px 1px rgba(0, 0, 0, 0.15);\n",
              "      filter: drop-shadow(0px 1px 2px rgba(0, 0, 0, 0.3));\n",
              "      fill: #FFFFFF;\n",
              "    }\n",
              "  </style>\n",
              "\n",
              "      <script>\n",
              "        const buttonEl =\n",
              "          document.querySelector('#df-fe31b4ca-0ec9-401c-8227-0ca89da47ae8 button.colab-df-convert');\n",
              "        buttonEl.style.display =\n",
              "          google.colab.kernel.accessAllowed ? 'block' : 'none';\n",
              "\n",
              "        async function convertToInteractive(key) {\n",
              "          const element = document.querySelector('#df-fe31b4ca-0ec9-401c-8227-0ca89da47ae8');\n",
              "          const dataTable =\n",
              "            await google.colab.kernel.invokeFunction('convertToInteractive',\n",
              "                                                     [key], {});\n",
              "          if (!dataTable) return;\n",
              "\n",
              "          const docLinkHtml = 'Like what you see? Visit the ' +\n",
              "            '<a target=\"_blank\" href=https://colab.research.google.com/notebooks/data_table.ipynb>data table notebook</a>'\n",
              "            + ' to learn more about interactive tables.';\n",
              "          element.innerHTML = '';\n",
              "          dataTable['output_type'] = 'display_data';\n",
              "          await google.colab.output.renderOutput(dataTable, element);\n",
              "          const docLink = document.createElement('div');\n",
              "          docLink.innerHTML = docLinkHtml;\n",
              "          element.appendChild(docLink);\n",
              "        }\n",
              "      </script>\n",
              "    </div>\n",
              "  </div>\n",
              "  "
            ]
          },
          "metadata": {},
          "execution_count": 36
        }
      ]
    },
    {
      "cell_type": "code",
      "source": [
        "#check max len\n",
        "import pprint as pp\n",
        "pp.pprint(list(df[(df.reviewTextLength == 14323) & (df.sample_type == 'automotive')].reviewText))"
      ],
      "metadata": {
        "id": "aaOUG0oDm2Hk"
      },
      "execution_count": null,
      "outputs": []
    },
    {
      "cell_type": "code",
      "source": [
        "pp.pprint(list(df[(df.reviewTextLength == 32627) & (df.sample_type == 'video_games')].reviewText))"
      ],
      "metadata": {
        "id": "M-1siS54ix3X"
      },
      "execution_count": null,
      "outputs": []
    },
    {
      "cell_type": "code",
      "source": [
        "#Modify data \n",
        "df = df[(df.reviewTextLength > 1e1) & (df.reviewTextLength < 4e3)]\n",
        "df['reviewText'] = df['reviewText'].str.slice(0,1000)\n",
        "df['reviewTextLength'] = df.reviewText.str.len()\n",
        "df.reset_index(drop = True, inplace = True)"
      ],
      "metadata": {
        "id": "zMNP4AdW9RSk"
      },
      "execution_count": null,
      "outputs": []
    },
    {
      "cell_type": "code",
      "source": [
        "df.reviewTextLength.max()"
      ],
      "metadata": {
        "colab": {
          "base_uri": "https://localhost:8080/"
        },
        "id": "iaEmc3uQs9Kx",
        "outputId": "fd8cedda-e7f8-4fd7-9274-98d8a3781b08"
      },
      "execution_count": null,
      "outputs": [
        {
          "output_type": "execute_result",
          "data": {
            "text/plain": [
              "1000"
            ]
          },
          "metadata": {},
          "execution_count": 38
        }
      ]
    },
    {
      "cell_type": "code",
      "source": [
        "! python -m spacy download en_core_web_md\n",
        "\n",
        "import en_core_web_md\n",
        "nlp = en_core_web_md.load()\n",
        "from tqdm.auto import tqdm,trange\n",
        "\n",
        "import torch\n",
        "import torch.nn as nn\n",
        "import torch.nn.functional as F\n",
        "import numpy as np\n",
        "\n",
        "from matplotlib import pyplot\n"
      ],
      "metadata": {
        "id": "A4hYlIXWoij6"
      },
      "execution_count": null,
      "outputs": []
    },
    {
      "cell_type": "code",
      "source": [
        "review_words=[]\n",
        "\n",
        "for text in tqdm(df['reviewText']):\n",
        "    with nlp.disable_pipes(\"tagger\",\"parser\",\"ner\"):\n",
        "        doc = nlp(text)\n",
        "        review_words.append([token.text.lower() for token in doc])"
      ],
      "metadata": {
        "colab": {
          "base_uri": "https://localhost:8080/",
          "height": 49,
          "referenced_widgets": [
            "7a6e9813783f44448f04c50e258f9286",
            "a391f79b697d4d1681ea9514204e1292",
            "469ec869d8c2403a9f5a3fd691b1d206",
            "6b7896f318be4ff49a2ee49187b45066",
            "31f0421db774459c93e6549b94791ce6",
            "7ed060534cd14848b0f81c7731c10993",
            "604494f8763347329f15164980abc851",
            "48d7bd3ef68b4734a621a84ad501d527",
            "074fbed411354ea699af2153da11d843",
            "27f8d404376a4284b6e8d788d1bdead7",
            "9fa8936043b04fdf8a514188c793445e"
          ]
        },
        "id": "qmym604np4t7",
        "outputId": "7504d91b-7e7e-4cdd-a177-bf05253b495b"
      },
      "execution_count": null,
      "outputs": [
        {
          "output_type": "display_data",
          "data": {
            "text/plain": [
              "  0%|          | 0/1018167 [00:00<?, ?it/s]"
            ],
            "application/vnd.jupyter.widget-view+json": {
              "version_major": 2,
              "version_minor": 0,
              "model_id": "7a6e9813783f44448f04c50e258f9286"
            }
          },
          "metadata": {}
        }
      ]
    },
    {
      "cell_type": "code",
      "source": [
        "print(nlp.pipe_names)"
      ],
      "metadata": {
        "id": "d82iF_EX57mB"
      },
      "execution_count": null,
      "outputs": []
    },
    {
      "cell_type": "code",
      "source": [
        "df['reviewTextWords'] = review_words\n",
        "df['reviewTextWordsLength'] = df.reviewTextWords.str.len()\n",
        "#df"
      ],
      "metadata": {
        "id": "epaIeMlCp5pM"
      },
      "execution_count": null,
      "outputs": []
    },
    {
      "cell_type": "code",
      "source": [
        "class WordTokenizer():\n",
        "    def __init__(self, tok_seqs, threshold=50):\n",
        "        tok_counts={}\n",
        "        \n",
        "        for tok_seq in tqdm(tok_seqs):\n",
        "            for tok in tok_seq:\n",
        "                if not tok in tok_counts.keys():\n",
        "                    tok_counts[tok]=1\n",
        "                else:\n",
        "                    tok_counts[tok]+=1\n",
        "\n",
        "        #print(tok_counts) \n",
        "        \n",
        "        self.vocab={'[PAD]':0,'[UNK]':1}\n",
        "        for tok, val in tok_counts.items():\n",
        "            if val>=threshold:\n",
        "                self.vocab[tok]=len(self.vocab)\n",
        "                \n",
        "        #print(\"The size of the dictionary:\",len(self.vocab))\n",
        "        print(\"The size of the dictionary:\",len(self.vocab), self.vocab)\n",
        "    def encode(self,seq):\n",
        "        encoded=[]\n",
        "        for tok in seq:\n",
        "            if tok in self.vocab.keys():\n",
        "                encoded.append(self.vocab[tok])\n",
        "            else:\n",
        "                encoded.append(1)\n",
        "        return encoded\n",
        "\n",
        "WordTokenizer(df.reviewTextWords, 10)"
      ],
      "metadata": {
        "id": "ajQI1q82p6Sc"
      },
      "execution_count": null,
      "outputs": []
    },
    {
      "cell_type": "code",
      "source": [
        "df.overall.value_counts()"
      ],
      "metadata": {
        "colab": {
          "base_uri": "https://localhost:8080/"
        },
        "id": "ac906IKNue6i",
        "outputId": "775e4979-8bf0-485e-86cc-f832672bcc17"
      },
      "execution_count": null,
      "outputs": [
        {
          "output_type": "execute_result",
          "data": {
            "text/plain": [
              "5.0    717802\n",
              "4.0    148523\n",
              "3.0     65839\n",
              "1.0     51770\n",
              "2.0     34233\n",
              "Name: overall, dtype: int64"
            ]
          },
          "metadata": {},
          "execution_count": 10
        }
      ]
    },
    {
      "cell_type": "code",
      "source": [
        "df = df[df.overall != 3]\n",
        "df.overall = df.overall.map({1:0, 2:0, 4:1, 5:1})\n",
        "df"
      ],
      "metadata": {
        "id": "kM53MxWCvAo4"
      },
      "execution_count": null,
      "outputs": []
    },
    {
      "cell_type": "code",
      "source": [
        "word_tokenizer = WordTokenizer(df.reviewTextWords, 10)\n",
        "df['reviewTextWordsEncoded'] = df.reviewTextWords.apply(word_tokenizer.encode)\n",
        "df"
      ],
      "metadata": {
        "id": "1cZiJ5sZp6sI"
      },
      "execution_count": null,
      "outputs": []
    },
    {
      "cell_type": "code",
      "source": [
        "train_df, val_df, test_df = np.split(df.sample(frac=1, random_state=1), [int(.6*len(df)), int(.8*len(df))])\n",
        "\n",
        "train_df = train_df.sample(n=int(2e5), random_state=1, ignore_index = True)\n",
        "val_df = val_df.sample(n=int(2e4), random_state=1, ignore_index = True)\n",
        "test_df = test_df.sample(n=int(1e4), random_state=1, ignore_index = True)\n",
        "\n",
        "print(train_df.shape, val_df.shape, test_df.shape)"
      ],
      "metadata": {
        "colab": {
          "base_uri": "https://localhost:8080/"
        },
        "id": "BZuz6t3otVxP",
        "outputId": "33e49431-2ba4-4837-843e-e5d092348d6e"
      },
      "execution_count": null,
      "outputs": [
        {
          "output_type": "stream",
          "name": "stdout",
          "text": [
            "(200000, 10) (20000, 10) (10000, 10)\n"
          ]
        }
      ]
    },
    {
      "cell_type": "code",
      "source": [
        "print('orig')\n",
        "print(df.overall.value_counts())\n",
        "print('train')\n",
        "print(train_df.overall.value_counts())\n",
        "print('valid')\n",
        "print(val_df.overall.value_counts())\n",
        "print('test')\n",
        "test_df.overall.value_counts()"
      ],
      "metadata": {
        "colab": {
          "base_uri": "https://localhost:8080/"
        },
        "id": "Ef9Fwrk1BW8Q",
        "outputId": "1f223288-cf1b-4f23-8049-b9c89e4c8021"
      },
      "execution_count": null,
      "outputs": [
        {
          "output_type": "stream",
          "name": "stdout",
          "text": [
            "orig\n",
            "1    866325\n",
            "0     86003\n",
            "Name: overall, dtype: int64\n",
            "train\n",
            "1    181942\n",
            "0     18058\n",
            "Name: overall, dtype: int64\n",
            "valid\n",
            "1    18243\n",
            "0     1757\n",
            "Name: overall, dtype: int64\n",
            "test\n"
          ]
        },
        {
          "output_type": "execute_result",
          "data": {
            "text/plain": [
              "1    9109\n",
              "0     891\n",
              "Name: overall, dtype: int64"
            ]
          },
          "metadata": {},
          "execution_count": 17
        }
      ]
    },
    {
      "cell_type": "code",
      "source": [
        "\n",
        "import os \n",
        "import numpy as np\n",
        "\n",
        "embeddings_index = {}\n",
        "filename = '/content/gdrive/MyDrive/Colab Notebooks/NLP/glove.6B.100d.txt'\n",
        "\n",
        "f = open(os.path.join(filename), encoding='utf8')\n",
        "for line in f:\n",
        "    values = line.split()\n",
        "    word = values[0]\n",
        "    coefs = np.asarray(values[1:], dtype='float32')\n",
        "    embeddings_index[word] = coefs\n",
        "f.close()\n"
      ],
      "metadata": {
        "id": "IvzQD_Nl7bur"
      },
      "execution_count": null,
      "outputs": []
    },
    {
      "cell_type": "code",
      "source": [
        "#len(embeddings_index['growing'])\n",
        "len(embeddings_index)"
      ],
      "metadata": {
        "colab": {
          "base_uri": "https://localhost:8080/"
        },
        "id": "fomuT-V2psk_",
        "outputId": "fc3880f1-9cc6-4660-906c-6b8dad35c11e"
      },
      "execution_count": null,
      "outputs": [
        {
          "output_type": "execute_result",
          "data": {
            "text/plain": [
              "400000"
            ]
          },
          "metadata": {},
          "execution_count": 19
        }
      ]
    },
    {
      "cell_type": "code",
      "source": [
        "len(word_tokenizer.vocab)"
      ],
      "metadata": {
        "colab": {
          "base_uri": "https://localhost:8080/"
        },
        "id": "7kT2LNwHohlV",
        "outputId": "79219336-5fdd-444c-cfba-f0b19a9f65d6"
      },
      "execution_count": null,
      "outputs": [
        {
          "output_type": "execute_result",
          "data": {
            "text/plain": [
              "28816"
            ]
          },
          "metadata": {},
          "execution_count": 20
        }
      ]
    },
    {
      "cell_type": "code",
      "source": [
        "def word_vectors(n, k, vocab, emb):\n",
        "  weights_matrix = np.zeros((n, k))\n",
        "  words_found = 0\n",
        "\n",
        "  for i, word in enumerate(vocab):\n",
        "      try: \n",
        "          weights_matrix[i] = emb[word]\n",
        "          words_found += 1\n",
        "      except KeyError:\n",
        "          weights_matrix[i] = np.random.normal(scale=0.6, size=(k, ))\n",
        "\n",
        "  weights_matrix = torch.from_numpy(weights_matrix)\n",
        "  print('words_found:', words_found)\n",
        "  return weights_matrix\n",
        "\n",
        "weights_matrix_glove = word_vectors(len(word_tokenizer.vocab), 100, word_tokenizer.vocab, embeddings_index)\n"
      ],
      "metadata": {
        "id": "FFFwLkXlqGrn",
        "colab": {
          "base_uri": "https://localhost:8080/"
        },
        "outputId": "af8beafb-2842-4fd1-e423-072546016575"
      },
      "execution_count": null,
      "outputs": [
        {
          "output_type": "stream",
          "name": "stdout",
          "text": [
            "words_found: 24958\n"
          ]
        }
      ]
    },
    {
      "cell_type": "code",
      "source": [
        "del embeddings_index"
      ],
      "metadata": {
        "id": "bAMaj93s6Jzu"
      },
      "execution_count": null,
      "outputs": []
    },
    {
      "cell_type": "code",
      "source": [
        "#Google\n",
        "!unzip -q \"/content/gdrive/MyDrive/Colab Notebooks/NLP/GoogleNews-vectors-negative300.bin.zip\""
      ],
      "metadata": {
        "id": "gxt1xR0aq5_y"
      },
      "execution_count": null,
      "outputs": []
    },
    {
      "cell_type": "code",
      "source": [
        "import gensim\n",
        "from gensim import models\n",
        "from gensim.models import Word2Vec\n",
        "from gensim.models import KeyedVectors\n",
        "word2vec_path = 'GoogleNews-vectors-negative300.bin'\n",
        "word2vec = models.KeyedVectors.load_word2vec_format(word2vec_path, binary=True)"
      ],
      "metadata": {
        "id": "ho_UM_5Vq6x_"
      },
      "execution_count": null,
      "outputs": []
    },
    {
      "cell_type": "code",
      "source": [
        "len(word2vec['apple'])"
      ],
      "metadata": {
        "colab": {
          "base_uri": "https://localhost:8080/"
        },
        "id": "bTa3RB1oq68U",
        "outputId": "ed569d31-a783-42ce-87e4-2c9d3de03b47"
      },
      "execution_count": null,
      "outputs": [
        {
          "output_type": "execute_result",
          "data": {
            "text/plain": [
              "300"
            ]
          },
          "metadata": {},
          "execution_count": 25
        }
      ]
    },
    {
      "cell_type": "code",
      "source": [
        "weights_matrix_google = word_vectors(len(word_tokenizer.vocab), 300, word_tokenizer.vocab, word2vec)"
      ],
      "metadata": {
        "colab": {
          "base_uri": "https://localhost:8080/"
        },
        "id": "TPb7LSupq7O3",
        "outputId": "6ccbb260-07b7-4923-b891-1f8f42b4a651"
      },
      "execution_count": null,
      "outputs": [
        {
          "output_type": "stream",
          "name": "stdout",
          "text": [
            "words_found: 23148\n"
          ]
        }
      ]
    },
    {
      "cell_type": "code",
      "source": [
        "del word2vec"
      ],
      "metadata": {
        "id": "dWhh2ECP6VHD"
      },
      "execution_count": null,
      "outputs": []
    },
    {
      "cell_type": "code",
      "source": [
        "def create_emb_layer(weights_matrix, non_trainable=False, padding_idx = None):\n",
        "    num_embeddings, embedding_dim = weights_matrix.size()\n",
        "    emb_layer = nn.Embedding(num_embeddings, embedding_dim, padding_idx)\n",
        "    emb_layer.load_state_dict({'weight': weights_matrix})\n",
        "    if non_trainable:\n",
        "        emb_layer.weight.requires_grad = False\n",
        "\n",
        "    return emb_layer, num_embeddings, embedding_dim\n",
        "\n",
        "#create_emb_layer(weights_matrix_glove, non_trainable=False)"
      ],
      "metadata": {
        "id": "jbKaNpqDsfAW"
      },
      "execution_count": null,
      "outputs": []
    },
    {
      "cell_type": "code",
      "source": [
        "#to use\n",
        "device = torch.device(\"cuda:0\" if torch.cuda.is_available() else \"cpu\")\n",
        "print(device)\n",
        "\n",
        "def batch_iterator(df, batch_size, shuffle=True):\n",
        "    if batch_size==0:\n",
        "        starts=[0]\n",
        "        batch_size=len(df)\n",
        "    else:\n",
        "        starts=np.arange(0, len(df), batch_size)\n",
        "        if shuffle:\n",
        "            np.random.shuffle(starts)\n",
        "\n",
        "    for start in starts:\n",
        "        batch = df[start:start+batch_size]\n",
        "        bs = min(batch_size,len(df)-start)\n",
        "        \n",
        "        batch_len = batch[\"reviewTextWordsLength\"] #sequence length\n",
        "            \n",
        "        input_tensor = torch.zeros((bs, batch[\"reviewTextWordsLength\"].max() )).long()\n",
        "        \n",
        "        for idx, (seq, seq_len) in enumerate(zip(list(batch[\"reviewTextWordsEncoded\"]),list(batch[\"reviewTextWordsLength\"]))):\n",
        "            input_tensor[idx, :seq_len] = torch.LongTensor(seq)\n",
        "            \n",
        "\n",
        "        sentiment_tensor = torch.LongTensor(list(batch[\"overall\"]))\n",
        "\n",
        "        yield input_tensor.to(device), sentiment_tensor.to(device), torch.tensor(batch_len.values)"
      ],
      "metadata": {
        "colab": {
          "base_uri": "https://localhost:8080/"
        },
        "id": "ow2Y6gvunWOq",
        "outputId": "91cbedc6-ba1a-46f3-d34a-26cde06e3e5c"
      },
      "execution_count": null,
      "outputs": [
        {
          "output_type": "stream",
          "name": "stdout",
          "text": [
            "cuda:0\n"
          ]
        }
      ]
    },
    {
      "cell_type": "code",
      "source": [
        "#plot\n",
        "import matplotlib.pyplot as plt\n",
        "\n",
        "def plot_loss(train_losses, valid_losses):\n",
        "  fig = plt.figure(figsize=(10,6))\n",
        "  ax = fig.add_subplot(1,1,1)\n",
        "  ax.plot(train_losses, label='Train loss', color = 'blue')\n",
        "  ax.plot(valid_losses, label='Valid loss', color = 'green')\n",
        "  plt.legend()\n",
        "  ax.set_xlabel('Epoch')\n",
        "  ax.set_ylabel('Loss')\n",
        "  ax.set_title(f'Loss function (epoch)')\n",
        "\n",
        "plot_loss(train_losses = [0.7, 0.8, 0.9], valid_losses = [0.4, 0.5, 0.6])\n",
        "\n",
        "def plot_accuracy(train_accuracy, valid_accuracy):\n",
        "  fig = plt.figure(figsize=(10,6))\n",
        "  ax = fig.add_subplot(1,1,1)\n",
        "  ax.plot(train_accuracy, label='Train accuracy', color = 'blue')\n",
        "  ax.plot(valid_accuracy, label='Valid accuracy', color = 'green')\n",
        "  plt.legend()\n",
        "  ax.set_xlabel('Epoch')\n",
        "  ax.set_ylabel('Accuracy')\n",
        "  ax.set_title(f'Accuracy (epoch)')\n",
        "\n",
        "plot_accuracy(train_accuracy = [0.7, 0.8, 0.9], valid_accuracy = [0.4, 0.5, 0.6])"
      ],
      "metadata": {
        "id": "aiRHhFmK5QGR"
      },
      "execution_count": null,
      "outputs": []
    },
    {
      "cell_type": "code",
      "source": [
        "#to use v3\n",
        "from datetime import datetime\n",
        "\n",
        "def train_func(model, train_df, optimizer, batch_size, GPU=False, include_length = False):\n",
        "  \n",
        "  model.train()\n",
        "\n",
        "  running_loss = [] #0\n",
        "  running_acc = [] #0\n",
        "\n",
        "  for i, batch in enumerate(batch_iterator(train_df, batch_size, shuffle = True)):\n",
        "    input, target, text_length = batch\n",
        "    if GPU:\n",
        "      input, target = input.to(device), target.to(device)      \n",
        "\n",
        "    optimizer.zero_grad() \n",
        "\n",
        "    if include_length == True:\n",
        "      pred = model(input, text_length)\n",
        "    else:\n",
        "      pred = model(input)\n",
        "\n",
        "    loss = loss_fn(pred, target)\n",
        "\n",
        "    #running_loss += loss.item()\n",
        "    running_loss.append(loss.item())\n",
        "\n",
        "    acc = torch.sum(pred.argmax(axis = 1) == target) / len(target) #64\n",
        "    acc = acc.cpu()\n",
        "    #running_acc += acc.item()\n",
        "    running_acc.append(acc.item())\n",
        "\n",
        "    loss.backward()\n",
        "    optimizer.step()\n",
        "\n",
        "  #print(running_loss / (i+1), running_acc / (i+1))\n",
        "\n",
        "  #return running_loss / (i+1), running_acc / (i+1)\n",
        "  return np.mean(running_loss), np.mean(running_acc)\n",
        "\n",
        "def test_func(model, val_df, batch_size, GPU=False, include_length = False):\n",
        "\n",
        "    running_vloss = [] #0\n",
        "    running_vacc = [] #0\n",
        "\n",
        "    #model.train(False) \n",
        "    model.eval()\n",
        "\n",
        "    with torch.no_grad():\n",
        "\n",
        "      for j, vbatch in enumerate(batch_iterator(val_df, batch_size, shuffle = False)):\n",
        "        vinput, vtarget, vtext_length = vbatch\n",
        "        if GPU:\n",
        "          vinput, vtarget =vinput.to(device), vtarget.to(device)\n",
        "\n",
        "        if include_length == True:\n",
        "          vpred = model(vinput, vtext_length)          \n",
        "        else:\n",
        "          vpred = model(vinput)          \n",
        "\n",
        "        vloss = loss_fn(vpred, vtarget)\n",
        "        #running_vloss += vloss.item()\n",
        "        running_vloss.append(vloss.item())\n",
        "\n",
        "        vacc = torch.sum(vpred.argmax(axis = 1) == vtarget) / len(vtarget) #64\n",
        "        vacc = vacc.cpu()\n",
        "        #running_vacc += vacc.item()\n",
        "        running_vacc.append(vacc.item())\n",
        "\n",
        "    #print(running_vloss / (j+1), running_vacc / (j+1))\n",
        "\n",
        "    #return running_vloss / (j+1), running_vacc / (j+1)\n",
        "    return np.mean(running_vloss), np.mean(running_vacc)\n",
        "\n",
        "def train_epoch(model, train_df, val_df, optimizer, epochs, batch_size, GPU=False, include_length = False):\n",
        "\n",
        "  loss_lists={'train':[], 'val':[]}\n",
        "  acc_lists={'train':[], 'val':[]}\n",
        "\n",
        "  print('Start:', datetime.now())\n",
        "  print(f'Train_df shape: {train_df.shape} | Val_df shape: {val_df.shape}')\n",
        "\n",
        "  for epoch in range(epochs):\n",
        "\n",
        "    #print('epoch:', epoch + 1)\n",
        "    epoch_start = datetime.now()\n",
        "    #print('start:', epoch_start)  \n",
        "\n",
        "    epoch_loss, epoch_acc = train_func(model, train_df, optimizer=optimizer, batch_size = batch_size, GPU=GPU, include_length=include_length)\n",
        "\n",
        "    loss_lists['train'].append(epoch_loss)\n",
        "    acc_lists['train'].append(epoch_acc)\n",
        "\n",
        "    #print(f\"Train loss: {epoch_loss}\")\n",
        "    #print(f\"Train accuracy: {epoch_acc}\")\n",
        "\n",
        "    epoch_vloss, epoch_vacc = test_func(model, val_df, batch_size = batch_size, GPU=GPU, include_length=include_length)\n",
        "\n",
        "    loss_lists['val'].append(epoch_vloss)\n",
        "    acc_lists['val'].append(epoch_vacc)\n",
        "\n",
        "    #print(f\"Validation loss: {epoch_vloss}\")\n",
        "    #print(f\"Validation accuracy: {epoch_vacc}\")\n",
        "\n",
        "    epoch_end = datetime.now()\n",
        "    #print('end:', epoch_end)  \n",
        "    #print('diff:', epoch_end - epoch_start)\n",
        "    #print('')\n",
        "\n",
        "    print(f'Epochs: {epoch + 1} | Train Loss: {epoch_loss: .3f} | Train Accuracy: {epoch_acc: .3f} | Val Loss: {epoch_vloss: .3f} | Val Accuracy: {epoch_vacc: .3f} | End: {datetime.now()}')\n",
        "\n",
        "  plot_loss(train_losses = loss_lists['train'], valid_losses = loss_lists['val'])\n",
        "  plot_accuracy(train_accuracy = acc_lists['train'], valid_accuracy = acc_lists['val'])\n",
        "  \n",
        "  #print(loss_lists['train'], type(loss_lists['train']))\n",
        "  #print(loss_lists, acc_lists)\n",
        "  return loss_lists, acc_lists\n",
        "\n"
      ],
      "metadata": {
        "id": "gdwyrUwO-7S0"
      },
      "execution_count": null,
      "outputs": []
    },
    {
      "cell_type": "code",
      "source": [
        "from sklearn.metrics import confusion_matrix\n",
        "import seaborn as sns\n",
        "\n",
        "def evaluate_func(model, test_data, bs = 2, GPU=False, include_length = False):\n",
        "\n",
        "    running_tacc_list = [] \n",
        "    running_tacc = 0\n",
        "\n",
        "    with torch.no_grad():\n",
        "\n",
        "      for k, tbatch in enumerate(batch_iterator(test_data, bs, shuffle = False)):\n",
        "        tinput, ttarget, ttext_length = tbatch\n",
        "        if GPU:\n",
        "          tinput, ttarget = tinput.to(device), ttarget.to(device)\n",
        "\n",
        "        if include_length == True:\n",
        "          tpred = model(tinput, ttext_length)          \n",
        "        else:\n",
        "          tpred = model(tinput)          \n",
        "\n",
        "        tacc = (tpred.argmax(axis = 1) == ttarget).sum().item() \n",
        "        running_tacc += tacc\n",
        "\n",
        "        running_tacc_list.append(tpred.argmax(axis = 1).item())\n",
        "\n",
        "    print(f'Test Accuracy: {running_tacc/len(test_data): .3f}')\n",
        "\n",
        "    return running_tacc_list\n"
      ],
      "metadata": {
        "id": "1x3VvUlEvcwv"
      },
      "execution_count": null,
      "outputs": []
    },
    {
      "cell_type": "code",
      "source": [
        ""
      ],
      "metadata": {
        "id": "2yaEZhEHR8FV"
      },
      "execution_count": null,
      "outputs": []
    },
    {
      "cell_type": "code",
      "source": [
        "padding_idx = word_tokenizer.vocab['[PAD]']\n",
        "padding_idx"
      ],
      "metadata": {
        "colab": {
          "base_uri": "https://localhost:8080/"
        },
        "id": "YVKItmTo5Kcz",
        "outputId": "221b44ad-04b9-4a6d-e470-85f2d5828997"
      },
      "execution_count": null,
      "outputs": [
        {
          "output_type": "execute_result",
          "data": {
            "text/plain": [
              "0"
            ]
          },
          "metadata": {},
          "execution_count": 27
        }
      ]
    },
    {
      "cell_type": "code",
      "source": [
        ""
      ],
      "metadata": {
        "id": "HAN7fyyDDCFz"
      },
      "execution_count": null,
      "outputs": []
    },
    {
      "cell_type": "code",
      "source": [
        "class LSTM(nn.Module):\n",
        "    def __init__(self, params, weights = None):\n",
        "        super(LSTM, self).__init__()\n",
        "        \n",
        "        default_params={\n",
        "            \"embedding_dim\":50,\n",
        "            \"lstm_hidden_dim\":100,\n",
        "            \"number_of_tags\":2,\n",
        "            \"num_layers\":1,\n",
        "            \"dropout\": 0,\n",
        "            \"bidirectional\": False,\n",
        "            \"pad_idx\": 0\n",
        "        }\n",
        "        for key in default_params:\n",
        "            params[key] = params.get(key, default_params[key])\n",
        "\n",
        "        if weights == None:\n",
        "          self.embedding = nn.Embedding(params[\"vocab_size\"], params[\"embedding_dim\"], params[\"pad_idx\"])\n",
        "        else: \n",
        "          self.embedding, num_embeddings, embedding_dim  = create_emb_layer(weights, non_trainable = False, padding_idx=params[\"pad_idx\"])\n",
        "        \n",
        "        self.lstm = nn.LSTM(params[\"embedding_dim\"],\n",
        "                            params[\"lstm_hidden_dim\"],\n",
        "                            batch_first = True,\n",
        "                            num_layers = params[\"num_layers\"],\n",
        "                            dropout = params[\"dropout\"],\n",
        "                            bidirectional = params[\"bidirectional\"])\n",
        "\n",
        "        self.fc = nn.Linear(params[\"lstm_hidden_dim\"], params[\"number_of_tags\"])\n",
        "\n",
        "        self.dropout = nn.Dropout(params[\"dropout\"])\n",
        "\n",
        "    def forward(self, batch, text_length):\n",
        "        emb = self.dropout(self.embedding(batch))\n",
        "\n",
        "        emb = nn.utils.rnn.pack_padded_sequence(emb, text_length, batch_first=True, enforce_sorted=False)\n",
        "        \n",
        "        output, (h_t, c_t) = self.lstm(emb)\n",
        "            \n",
        "        out = self.fc(h_t).float()[0]\n",
        "        \n",
        "        return out"
      ],
      "metadata": {
        "id": "GGRdLqE1old8"
      },
      "execution_count": null,
      "outputs": []
    },
    {
      "cell_type": "code",
      "source": [
        ""
      ],
      "metadata": {
        "id": "y7hr5SayByJc"
      },
      "execution_count": null,
      "outputs": []
    },
    {
      "cell_type": "code",
      "source": [
        "lstm_model_glove=LSTM(\n",
        "    {\n",
        "        \"vocab_size\": len(word_tokenizer.vocab),\n",
        "        \"embedding_dim\": 100,\n",
        "        \"lstm_hidden_dim\": 100,\n",
        "        \"number_of_tags\": 2,\n",
        "        \"num_layers\": 2,\n",
        "        \"dropout\": 0.5,\n",
        "        \"bidirectional\": True,\n",
        "        \"pad_idx\": 0\n",
        "    }, weights = weights_matrix_glove\n",
        ")\n",
        "\n",
        "#print(lstm_model)\n",
        "lstm_model_glove = lstm_model_glove.to(device) \n",
        "\n",
        "#optimizer = torch.optim.SGD(lstm_model.parameters(), lr=0.001)\n",
        "optimizer = torch.optim.Adam(lstm_model_glove.parameters())\n",
        "\n",
        "loss_fn = torch.nn.CrossEntropyLoss()\n",
        "\n",
        "losses, accuracies = train_epoch(lstm_model_glove, train_df, val_df, optimizer=optimizer, epochs=15, batch_size=512, GPU=True, include_length = True)\n"
      ],
      "metadata": {
        "colab": {
          "base_uri": "https://localhost:8080/",
          "height": 1000
        },
        "id": "vzK2hcKGBknu",
        "outputId": "19e31c24-b99c-442b-a409-40dfc9754f47"
      },
      "execution_count": null,
      "outputs": [
        {
          "output_type": "stream",
          "name": "stdout",
          "text": [
            "Start: 2022-05-17 20:23:10.844259\n",
            "Train_df shape: (200000, 10) | Val_df shape: (20000, 10)\n",
            "Epochs: 1 | Train Loss:  0.244 | Train Accuracy:  0.913 | Val Loss:  0.175 | Val Accuracy:  0.931 | End: 2022-05-17 20:23:41.383279\n",
            "Epochs: 2 | Train Loss:  0.155 | Train Accuracy:  0.940 | Val Loss:  0.133 | Val Accuracy:  0.948 | End: 2022-05-17 20:24:11.020443\n",
            "Epochs: 3 | Train Loss:  0.131 | Train Accuracy:  0.950 | Val Loss:  0.112 | Val Accuracy:  0.957 | End: 2022-05-17 20:24:40.825572\n",
            "Epochs: 4 | Train Loss:  0.118 | Train Accuracy:  0.955 | Val Loss:  0.107 | Val Accuracy:  0.960 | End: 2022-05-17 20:25:10.413515\n",
            "Epochs: 5 | Train Loss:  0.107 | Train Accuracy:  0.959 | Val Loss:  0.103 | Val Accuracy:  0.961 | End: 2022-05-17 20:25:40.001726\n",
            "Epochs: 6 | Train Loss:  0.099 | Train Accuracy:  0.962 | Val Loss:  0.102 | Val Accuracy:  0.963 | End: 2022-05-17 20:26:09.591596\n",
            "Epochs: 7 | Train Loss:  0.093 | Train Accuracy:  0.965 | Val Loss:  0.099 | Val Accuracy:  0.963 | End: 2022-05-17 20:26:39.143486\n",
            "Epochs: 8 | Train Loss:  0.085 | Train Accuracy:  0.968 | Val Loss:  0.097 | Val Accuracy:  0.964 | End: 2022-05-17 20:27:08.689701\n",
            "Epochs: 9 | Train Loss:  0.079 | Train Accuracy:  0.970 | Val Loss:  0.100 | Val Accuracy:  0.963 | End: 2022-05-17 20:27:38.247096\n",
            "Epochs: 10 | Train Loss:  0.075 | Train Accuracy:  0.972 | Val Loss:  0.100 | Val Accuracy:  0.965 | End: 2022-05-17 20:28:07.787521\n",
            "Epochs: 11 | Train Loss:  0.070 | Train Accuracy:  0.974 | Val Loss:  0.102 | Val Accuracy:  0.966 | End: 2022-05-17 20:28:37.363789\n",
            "Epochs: 12 | Train Loss:  0.067 | Train Accuracy:  0.975 | Val Loss:  0.098 | Val Accuracy:  0.965 | End: 2022-05-17 20:29:06.918839\n",
            "Epochs: 13 | Train Loss:  0.063 | Train Accuracy:  0.977 | Val Loss:  0.102 | Val Accuracy:  0.966 | End: 2022-05-17 20:29:36.484976\n",
            "Epochs: 14 | Train Loss:  0.060 | Train Accuracy:  0.978 | Val Loss:  0.106 | Val Accuracy:  0.966 | End: 2022-05-17 20:30:06.031716\n",
            "Epochs: 15 | Train Loss:  0.056 | Train Accuracy:  0.979 | Val Loss:  0.108 | Val Accuracy:  0.966 | End: 2022-05-17 20:30:35.582582\n"
          ]
        },
        {
          "output_type": "display_data",
          "data": {
            "text/plain": [
              "<Figure size 720x432 with 1 Axes>"
            ],
            "image/png": "[encoded data removed]"
          },
          "metadata": {
            "needs_background": "light"
          }
        },
        {
          "output_type": "display_data",
          "data": {
            "text/plain": [
              "<Figure size 720x432 with 1 Axes>"
            ],
            "image/png": "[encoded data removed]"
          },
          "metadata": {
            "needs_background": "light"
          }
        }
      ]
    },
    {
      "cell_type": "code",
      "source": [
        "pred_glove = evaluate_func(lstm_model_glove, test_df, bs = 1, GPU=True, include_length = True)"
      ],
      "metadata": {
        "colab": {
          "base_uri": "https://localhost:8080/"
        },
        "id": "Pu5PJFQJBw3-",
        "outputId": "3d1cfe4d-9e1f-4432-9fdb-f1e92722f911"
      },
      "execution_count": null,
      "outputs": [
        {
          "output_type": "stream",
          "name": "stdout",
          "text": [
            "Test Accuracy:  0.962\n"
          ]
        }
      ]
    },
    {
      "cell_type": "code",
      "source": [
        "cm=confusion_matrix(test_df.overall, pred_glove)\n",
        "plt.figure(figsize=(6, 5))\n",
        "ax = plt.axes()\n",
        "sns.heatmap(cm, annot=True, xticklabels=[\"neg\", \"pos\"], yticklabels=[\"neg\", \"pos\"], fmt=\"g\", cmap=\"YlGnBu\",  ax = ax)\n",
        "ax.set_title('Confusion matrix LSTM with Glove')\n",
        "plt.ylabel(\"Predicted\")\n",
        "plt.xlabel(\"Actual\")\n",
        "plt.show()"
      ],
      "metadata": {
        "colab": {
          "base_uri": "https://localhost:8080/",
          "height": 350
        },
        "id": "czD9lajya1Nd",
        "outputId": "9c35f615-c0de-459c-bd15-cc8f7e518340"
      },
      "execution_count": null,
      "outputs": [
        {
          "output_type": "display_data",
          "data": {
            "text/plain": [
              "<Figure size 432x360 with 2 Axes>"
            ],
            "image/png": "[encoded data removed]"
          },
          "metadata": {
            "needs_background": "light"
          }
        }
      ]
    },
    {
      "cell_type": "code",
      "source": [
        ""
      ],
      "metadata": {
        "id": "wRDm5eMoXbkt"
      },
      "execution_count": null,
      "outputs": []
    },
    {
      "cell_type": "code",
      "source": [
        "#google w2v\n",
        "lstm_model_w2v=LSTM(\n",
        "    {\n",
        "        \"vocab_size\": len(word_tokenizer.vocab),\n",
        "        \"embedding_dim\": 300,\n",
        "        \"lstm_hidden_dim\": 100,\n",
        "        \"number_of_tags\": 2,\n",
        "        \"num_layers\": 2,\n",
        "        \"dropout\": 0.5,\n",
        "        \"bidirectional\": True,\n",
        "        \"pad_idx\": 0\n",
        "    }, weights = weights_matrix_google\n",
        ")\n",
        "\n",
        "#print(lstm_model)\n",
        "lstm_model_w2v = lstm_model_w2v.to(device) \n",
        "\n",
        "#optimizer = torch.optim.SGD(lstm_model.parameters(), lr=0.001)\n",
        "optimizer = torch.optim.Adam(lstm_model_w2v.parameters())\n",
        "\n",
        "loss_fn = torch.nn.CrossEntropyLoss()\n",
        "\n",
        "losses, accuracies = train_epoch(lstm_model_w2v, train_df, val_df, optimizer=optimizer, epochs=15, batch_size=512, GPU=True, include_length = True)"
      ],
      "metadata": {
        "id": "gybSlpikBxLU",
        "colab": {
          "base_uri": "https://localhost:8080/",
          "height": 1000
        },
        "outputId": "350ab3d2-9860-4644-a08f-605c66133e1d"
      },
      "execution_count": null,
      "outputs": [
        {
          "output_type": "stream",
          "name": "stdout",
          "text": [
            "Start: 2022-05-17 20:30:59.697305\n",
            "Train_df shape: (200000, 10) | Val_df shape: (20000, 10)\n",
            "Epochs: 1 | Train Loss:  0.228 | Train Accuracy:  0.919 | Val Loss:  0.138 | Val Accuracy:  0.946 | End: 2022-05-17 20:31:32.744079\n",
            "Epochs: 2 | Train Loss:  0.131 | Train Accuracy:  0.950 | Val Loss:  0.114 | Val Accuracy:  0.955 | End: 2022-05-17 20:32:05.812311\n",
            "Epochs: 3 | Train Loss:  0.107 | Train Accuracy:  0.959 | Val Loss:  0.107 | Val Accuracy:  0.959 | End: 2022-05-17 20:32:38.927821\n",
            "Epochs: 4 | Train Loss:  0.092 | Train Accuracy:  0.965 | Val Loss:  0.106 | Val Accuracy:  0.962 | End: 2022-05-17 20:33:12.018393\n",
            "Epochs: 5 | Train Loss:  0.079 | Train Accuracy:  0.970 | Val Loss:  0.105 | Val Accuracy:  0.962 | End: 2022-05-17 20:33:45.127352\n",
            "Epochs: 6 | Train Loss:  0.068 | Train Accuracy:  0.975 | Val Loss:  0.112 | Val Accuracy:  0.960 | End: 2022-05-17 20:34:18.224031\n",
            "Epochs: 7 | Train Loss:  0.058 | Train Accuracy:  0.979 | Val Loss:  0.119 | Val Accuracy:  0.962 | End: 2022-05-17 20:34:51.320904\n",
            "Epochs: 8 | Train Loss:  0.051 | Train Accuracy:  0.982 | Val Loss:  0.118 | Val Accuracy:  0.960 | End: 2022-05-17 20:35:24.429173\n",
            "Epochs: 9 | Train Loss:  0.044 | Train Accuracy:  0.984 | Val Loss:  0.131 | Val Accuracy:  0.960 | End: 2022-05-17 20:35:57.547578\n",
            "Epochs: 10 | Train Loss:  0.039 | Train Accuracy:  0.986 | Val Loss:  0.145 | Val Accuracy:  0.962 | End: 2022-05-17 20:36:30.638029\n",
            "Epochs: 11 | Train Loss:  0.034 | Train Accuracy:  0.988 | Val Loss:  0.145 | Val Accuracy:  0.959 | End: 2022-05-17 20:37:03.754860\n",
            "Epochs: 12 | Train Loss:  0.030 | Train Accuracy:  0.990 | Val Loss:  0.160 | Val Accuracy:  0.958 | End: 2022-05-17 20:37:36.861765\n",
            "Epochs: 13 | Train Loss:  0.026 | Train Accuracy:  0.991 | Val Loss:  0.164 | Val Accuracy:  0.960 | End: 2022-05-17 20:38:09.993396\n",
            "Epochs: 14 | Train Loss:  0.024 | Train Accuracy:  0.992 | Val Loss:  0.186 | Val Accuracy:  0.960 | End: 2022-05-17 20:38:43.118021\n",
            "Epochs: 15 | Train Loss:  0.022 | Train Accuracy:  0.993 | Val Loss:  0.186 | Val Accuracy:  0.960 | End: 2022-05-17 20:39:16.221842\n"
          ]
        },
        {
          "output_type": "display_data",
          "data": {
            "text/plain": [
              "<Figure size 720x432 with 1 Axes>"
            ],
            "image/png": "[encoded data removed]"
          },
          "metadata": {
            "needs_background": "light"
          }
        },
        {
          "output_type": "display_data",
          "data": {
            "text/plain": [
              "<Figure size 720x432 with 1 Axes>"
            ],
            "image/png": "[encoded data removed]"
          },
          "metadata": {
            "needs_background": "light"
          }
        }
      ]
    },
    {
      "cell_type": "code",
      "source": [
        "pred_w2v = evaluate_func(lstm_model_w2v, test_df, bs = 1, GPU=True, include_length = True)"
      ],
      "metadata": {
        "colab": {
          "base_uri": "https://localhost:8080/"
        },
        "id": "uI-DZFcTDP5Z",
        "outputId": "db57f349-2565-41dd-87ea-c4bd3e657771"
      },
      "execution_count": null,
      "outputs": [
        {
          "output_type": "stream",
          "name": "stdout",
          "text": [
            "Test Accuracy:  0.959\n"
          ]
        }
      ]
    },
    {
      "cell_type": "code",
      "source": [
        "cm=confusion_matrix(test_df.overall, pred_w2v)\n",
        "plt.figure(figsize=(6, 5))\n",
        "ax = plt.axes()\n",
        "sns.heatmap(cm, annot=True, xticklabels=[\"neg\", \"pos\"], yticklabels=[\"neg\", \"pos\"], fmt=\"g\", cmap=\"YlGnBu\",  ax = ax)\n",
        "ax.set_title('Confusion matrix LSTM with w2v')\n",
        "plt.ylabel(\"Predicted\")\n",
        "plt.xlabel(\"Actual\")\n",
        "plt.show()"
      ],
      "metadata": {
        "colab": {
          "base_uri": "https://localhost:8080/",
          "height": 350
        },
        "id": "wFPedoQiDQAd",
        "outputId": "947e59b8-e7e3-4e42-8b74-b7649947bc74"
      },
      "execution_count": null,
      "outputs": [
        {
          "output_type": "display_data",
          "data": {
            "text/plain": [
              "<Figure size 432x360 with 2 Axes>"
            ],
            "image/png": "[encoded data removed]"
          },
          "metadata": {
            "needs_background": "light"
          }
        }
      ]
    },
    {
      "cell_type": "code",
      "source": [
        ""
      ],
      "metadata": {
        "id": "wDmnSC39nDh0"
      },
      "execution_count": null,
      "outputs": []
    },
    {
      "cell_type": "code",
      "source": [
        "bert_pred = pd.read_csv('/content/gdrive/MyDrive/Colab Notebooks/NLP/Bert_pred.csv')\n",
        "pred_bert = bert_pred['pred']\n",
        "#test_df[(pred_bert == 0)]"
      ],
      "metadata": {
        "id": "TMgmywoGnEDZ"
      },
      "execution_count": null,
      "outputs": []
    },
    {
      "cell_type": "markdown",
      "source": [
        "Negative"
      ],
      "metadata": {
        "id": "OdQwLhdQ1u_C"
      }
    },
    {
      "cell_type": "code",
      "source": [
        "#bert\n",
        "with pd.option_context('display.max_colwidth', None):\n",
        "  print(test_df[(test_df.overall == 0) & (np.asarray(pred_w2v) == 1) & (np.asarray(pred_glove) == 1) & (pred_bert == 0)].sort_values(by = ['reviewText'], ascending=True).sample(1, random_state = 5)['reviewText'])\n"
      ],
      "metadata": {
        "colab": {
          "base_uri": "https://localhost:8080/"
        },
        "id": "4imA6Dz7ozP3",
        "outputId": "a05cb7fe-db66-4178-fd65-72eea6c56caa"
      },
      "execution_count": null,
      "outputs": [
        {
          "output_type": "stream",
          "name": "stdout",
          "text": [
            "6723    Omg - I do not recommend these s***ty aftermarket parts.  After spending hours on what should have been a routine ape hanger extension, I am thoroughly brassed off!  My bike is a 2012 sportster iron.  I am installing 12\" burly narrow hangers.\\n\\nWhere do I begin?\\nThe wiring harness is not long enough to do a reasonable job.  I mapped the wiring perfectly my bike didn't start.  Lo and behold, the wiring was so short (I was reasonable and stingy with my splicing cuts too) that when I turn the handlebar into tight locked position, the wiring harness strained and began to come undone which caused my right controls to cut out.  Unbelievable.\\n\\nNext up, the idle cable was missing a washer to retain it within the right hand controls.\\n\\nI'm pretty sure the thread count on the replacement clutch cable is slightly different to the 5/16-24 standard that these Harley's have.\\n\\nI just recommend not wasting your time or money on these dangerous and s***ty aftermarket parts.  Buy your cables and replaceme\n",
            "Name: reviewText, dtype: object\n"
          ]
        }
      ]
    },
    {
      "cell_type": "code",
      "source": [
        "#w2v\n",
        "with pd.option_context('display.max_colwidth', None):\n",
        "  print(test_df[(test_df.overall == 0) & (np.asarray(pred_w2v) == 0) & (np.asarray(pred_glove) == 1) & (pred_bert == 1)].sort_values(by = ['reviewText'], ascending=True).sample(1, random_state = 5)['reviewText'])\n"
      ],
      "metadata": {
        "colab": {
          "base_uri": "https://localhost:8080/"
        },
        "id": "pd2ZDecvozKo",
        "outputId": "70079aaf-125b-40e5-994d-e3f510c86179"
      },
      "execution_count": null,
      "outputs": [
        {
          "output_type": "stream",
          "name": "stdout",
          "text": [
            "997    Call me harsh, but I like to receive what's pictured. Instead of the proper, perfect-fit-every-time crimp style clamps pictured, I received some garbage clamps that you have to fold over and secure by bending tabs. Zip ties would give a similar degree of confidence. Maybe they're easier for some kid with no mechanical experience, but I like my replacement parts to be OEM equivalent. Besides, you can get a crimp tool for something like ten bucks. Yeah, I got a boot that fits... and let's face it, it's hard to manufacture a rubber boot so poorly that it won't seal-in axle grease and flex properly for fifty to a hundred thousand miles, but I didn't buy just a boot. I bought a boot kit.\n",
            "Name: reviewText, dtype: object\n"
          ]
        }
      ]
    },
    {
      "cell_type": "code",
      "source": [
        "#glove\n",
        "with pd.option_context('display.max_colwidth', None):\n",
        "  print(test_df[(test_df.overall == 0) & (np.asarray(pred_w2v) == 1) & (np.asarray(pred_glove) == 0) & (pred_bert == 1)].sort_values(by = ['reviewText'], ascending=True).sample(1, random_state = 5)['reviewText'])\n"
      ],
      "metadata": {
        "colab": {
          "base_uri": "https://localhost:8080/"
        },
        "id": "9qlQ6Ei1oy_r",
        "outputId": "f1d410dc-7189-4a0f-81e0-7217a1735b99"
      },
      "execution_count": null,
      "outputs": [
        {
          "output_type": "stream",
          "name": "stdout",
          "text": [
            "7125    If your looking to just use to remove light brake dust it works. For one it to long. Second the bristles are too light and it's flimsy. Would buy again.\n",
            "Name: reviewText, dtype: object\n"
          ]
        }
      ]
    },
    {
      "cell_type": "code",
      "source": [
        "#none\n",
        "with pd.option_context('display.max_colwidth', None):\n",
        "  print(test_df[(test_df.overall == 0) & (np.asarray(pred_w2v) == 1) & (np.asarray(pred_glove) == 1) & (pred_bert == 1)].sort_values(by = ['reviewText'], ascending=True).sample(1, random_state = 5)['reviewText'])\n"
      ],
      "metadata": {
        "colab": {
          "base_uri": "https://localhost:8080/"
        },
        "id": "DUM4nyYpoytP",
        "outputId": "65f2be99-beaf-4596-f247-2be0fe925896"
      },
      "execution_count": null,
      "outputs": [
        {
          "output_type": "stream",
          "name": "stdout",
          "text": [
            "5255    Much smaller than anticipated.  Was going to use for our travel trailer but my husband wanted a larger one.\n",
            "Name: reviewText, dtype: object\n"
          ]
        }
      ]
    },
    {
      "cell_type": "code",
      "source": [
        "#all\n",
        "with pd.option_context('display.max_colwidth', None):\n",
        "  print(test_df[(test_df.overall == 0) & (np.asarray(pred_w2v) == 0) & (np.asarray(pred_glove) == 0) & (pred_bert == 0)].sort_values(by = ['reviewText'], ascending=True).sample(1, random_state = 5)['reviewText'])\n"
      ],
      "metadata": {
        "colab": {
          "base_uri": "https://localhost:8080/"
        },
        "id": "kxf63fyls5fw",
        "outputId": "d6c4f27e-db0f-4fca-f760-6e9ffde3bf09"
      },
      "execution_count": null,
      "outputs": [
        {
          "output_type": "stream",
          "name": "stdout",
          "text": [
            "6982    At first these were amazing bright after a few months they began burning out, over time they completely failed. Even when it is 45 Degrees Fahrenheit outside they would get to hot to touch. The brackets are weak and break also over time, so be leery of what you mount them on.\n",
            "Name: reviewText, dtype: object\n"
          ]
        }
      ]
    },
    {
      "cell_type": "markdown",
      "source": [
        "Positive"
      ],
      "metadata": {
        "id": "TQ6yj5Bp11zx"
      }
    },
    {
      "cell_type": "code",
      "source": [
        "#bert\n",
        "with pd.option_context('display.max_colwidth', None):\n",
        "  print(test_df[(test_df.overall == 1) & (np.asarray(pred_w2v) == 0) & (np.asarray(pred_glove) == 0) & (pred_bert == 1)].sort_values(by = ['reviewText'], ascending=True).sample(1, random_state = 5)['reviewText'])\n"
      ],
      "metadata": {
        "colab": {
          "base_uri": "https://localhost:8080/"
        },
        "id": "FZgciUE3s5pM",
        "outputId": "85a5b20c-f5d3-4bf3-9861-1c52d288a1e7"
      },
      "execution_count": null,
      "outputs": [
        {
          "output_type": "stream",
          "name": "stdout",
          "text": [
            "7717    It was a very good quality product, however sizing was small and I returned them and did not reorder.\n",
            "Name: reviewText, dtype: object\n"
          ]
        }
      ]
    },
    {
      "cell_type": "code",
      "source": [
        "#w2v\n",
        "with pd.option_context('display.max_colwidth', None):\n",
        "  print(test_df[(test_df.overall == 1) & (np.asarray(pred_w2v) == 1) & (np.asarray(pred_glove) == 0) & (pred_bert == 0)].sort_values(by = ['reviewText'], ascending=True).sample(1, random_state = 5)['reviewText'])\n"
      ],
      "metadata": {
        "id": "DIcrBmSBafoZ",
        "colab": {
          "base_uri": "https://localhost:8080/"
        },
        "outputId": "cc397353-5030-4e62-bfcb-130e278a0650"
      },
      "execution_count": null,
      "outputs": [
        {
          "output_type": "stream",
          "name": "stdout",
          "text": [
            "4026    First off, this is *THE ONLY* choice for transmissions asking specifically for Mercon SP (such as my 2006 F250). Do *NOT* get tricked into using Mercon LV in place of Mercon SP - IT IS NOT THE SAME AND WILL NOT WORK THE SAME no matter who tells you it will.\\n\\nThe only negative I can say about this fluid is 3 of the 12 quarts leaked during shipping for a total fluid loss of about 5mL. Not enough to affect my project in any way, but nonetheless the product leaked during shipping due to caps being installed very loosely.\n",
            "Name: reviewText, dtype: object\n"
          ]
        }
      ]
    },
    {
      "cell_type": "code",
      "source": [
        "#glove\n",
        "with pd.option_context('display.max_colwidth', None):\n",
        "  print(test_df[(test_df.overall == 1) & (np.asarray(pred_w2v) == 0) & (np.asarray(pred_glove) == 1) & (pred_bert == 0)].sort_values(by = ['reviewText'], ascending=True).sample(1, random_state = 5)['reviewText'])\n"
      ],
      "metadata": {
        "id": "EfMlJfbiagMz",
        "colab": {
          "base_uri": "https://localhost:8080/"
        },
        "outputId": "584fe57c-f416-473e-d245-ede9405f784f"
      },
      "execution_count": null,
      "outputs": [
        {
          "output_type": "stream",
          "name": "stdout",
          "text": [
            "2563    This is obsolete now. WOTLK was the best expansion. It has gone downhill ever since.\n",
            "Name: reviewText, dtype: object\n"
          ]
        }
      ]
    },
    {
      "cell_type": "code",
      "source": [
        "#none\n",
        "with pd.option_context('display.max_colwidth', None):\n",
        "  print(test_df[(test_df.overall == 1) & (np.asarray(pred_w2v) == 0) & (np.asarray(pred_glove) == 0) & (pred_bert == 0)].sort_values(by = ['reviewText'], ascending=True).sample(1, random_state = 5)['reviewText'])\n"
      ],
      "metadata": {
        "id": "nVJarDWwagSV",
        "colab": {
          "base_uri": "https://localhost:8080/"
        },
        "outputId": "7749ad91-0bc6-443b-d070-4c3867aa5be8"
      },
      "execution_count": null,
      "outputs": [
        {
          "output_type": "stream",
          "name": "stdout",
          "text": [
            "994    the one bracket came back broken after some transmission work. Figured after 17 years it was due. Also ordered a new boot at the same time. Both installed without a problem. 2000 Jeep TJ with 5/speed manual transmission.\n",
            "Name: reviewText, dtype: object\n"
          ]
        }
      ]
    },
    {
      "cell_type": "code",
      "source": [
        "#all\n",
        "with pd.option_context('display.max_colwidth', None):\n",
        "  print(test_df[(test_df.overall == 1) & (np.asarray(pred_w2v) == 1) & (np.asarray(pred_glove) == 1) & (pred_bert == 1)].sort_values(by = ['reviewText'], ascending=True).sample(1, random_state = 5)['reviewText'])\n"
      ],
      "metadata": {
        "id": "j8g6c3UWPiXP",
        "colab": {
          "base_uri": "https://localhost:8080/"
        },
        "outputId": "277bbd74-e669-4dd9-d7c5-26d207578fed"
      },
      "execution_count": null,
      "outputs": [
        {
          "output_type": "stream",
          "name": "stdout",
          "text": [
            "4811    came fast and just what I needed..\n",
            "Name: reviewText, dtype: object\n"
          ]
        }
      ]
    },
    {
      "cell_type": "code",
      "source": [
        ""
      ],
      "metadata": {
        "id": "P6IrAqf_NhJ_"
      },
      "execution_count": null,
      "outputs": []
    }
  ]
}